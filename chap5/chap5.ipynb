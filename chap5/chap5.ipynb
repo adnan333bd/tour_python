{
 "cells": [
  {
   "cell_type": "code",
   "execution_count": 3,
   "metadata": {},
   "outputs": [
    {
     "name": "stdout",
     "output_type": "stream",
     "text": [
      "(3, 15)\n"
     ]
    }
   ],
   "source": [
    "# p 116, section 5.1\n",
    "def find_extreme_divisors(n1, n2):\n",
    "    \"\"\"Assumes that n1 and n2 are positive ints\n",
    "       Returns a tuple containing the smallest common\n",
    "       divisor > 1 and the largest common divisor of n1 & n2. If no\n",
    "       common divisor, other than 1, returns (None, None)\"\"\"\n",
    "    lowest, highest = None, None\n",
    "    for i in range(2, min(n1, n2) + 1):\n",
    "        if n1 % i == 0 and n2 % i == 0:\n",
    "            if lowest is None:\n",
    "                lowest = i\n",
    "            highest = i\n",
    "    return lowest, highest\n",
    "\n",
    "print(find_extreme_divisors(15, 60))\n"
   ]
  }
 ],
 "metadata": {
  "interpreter": {
   "hash": "a516731ae833d49fa961f0ea8efca616d7b6481bad2820f0720da67a09406ff1"
  },
  "kernelspec": {
   "display_name": "Python 3.9.12 64-bit ('3.9.12')",
   "language": "python",
   "name": "python3"
  },
  "language_info": {
   "codemirror_mode": {
    "name": "ipython",
    "version": 3
   },
   "file_extension": ".py",
   "mimetype": "text/x-python",
   "name": "python",
   "nbconvert_exporter": "python",
   "pygments_lexer": "ipython3",
   "version": "3.9.12"
  },
  "orig_nbformat": 4
 },
 "nbformat": 4,
 "nbformat_minor": 2
}
