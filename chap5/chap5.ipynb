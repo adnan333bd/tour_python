{
 "cells": [
  {
   "cell_type": "markdown",
   "metadata": {},
   "source": [
    "5.1 Tuples"
   ]
  },
  {
   "cell_type": "code",
   "execution_count": null,
   "metadata": {},
   "outputs": [],
   "source": [
    "t1 = (1, 'two', 3)\n",
    "t2 = (t1, 3.25)\n",
    "print(t2)\n",
    "print((t1 + t2))\n",
    "print(t1 + t2)\n",
    "print((t1 + t2)[3])\n",
    "print((t1 + t2)[2:5])\n"
   ]
  },
  {
   "cell_type": "code",
   "execution_count": null,
   "metadata": {},
   "outputs": [],
   "source": [
    "def intersect(t1, t2):\n",
    "    \"\"\"Assumes t1 and t2 are tuples\n",
    "    Returns a tuple containing elements that are in\n",
    "    both t1 and t2\"\"\"\n",
    "    result = ()\n",
    "    for e in t1:\n",
    "        if e in t2:\n",
    "          result += (e,) # concats the tuples\n",
    "    return result\n",
    "print(intersect((1, 'a', 2), ('b', 2, 'a')))\n"
   ]
  },
  {
   "cell_type": "code",
   "execution_count": null,
   "metadata": {},
   "outputs": [],
   "source": [
    "# p 116, section 5.1\n",
    "def find_extreme_divisors(n1, n2):\n",
    "    \"\"\"Assumes that n1 and n2 are positive ints\n",
    "       Returns a tuple containing the smallest common\n",
    "       divisor > 1 and the largest common divisor of n1 & n2. If no\n",
    "       common divisor, other than 1, returns (None, None)\"\"\"\n",
    "    lowest, highest = None, None\n",
    "    for i in range(2, min(n1, n2) + 1):\n",
    "        if n1 % i == 0 and n2 % i == 0:\n",
    "            if lowest is None:\n",
    "                lowest = i\n",
    "            highest = i\n",
    "    return lowest, highest\n",
    "\n",
    "print(find_extreme_divisors(15, 60))\n"
   ]
  },
  {
   "cell_type": "markdown",
   "metadata": {},
   "source": [
    "5.3 Lists and Mutability (Page 120)"
   ]
  },
  {
   "cell_type": "code",
   "execution_count": null,
   "metadata": {},
   "outputs": [],
   "source": [
    "a = (25,23, 28)\n",
    "print(sum(a)/len(a)) # sum works for tuples\n",
    "\n",
    "# page 120\n",
    "L = [1,2,3]\n",
    "L.append(L)\n",
    "print(L is L[-1]) # list is an object"
   ]
  },
  {
   "cell_type": "code",
   "execution_count": null,
   "metadata": {},
   "outputs": [],
   "source": [
    "L1 = [[]] * 2 # same reference twice\n",
    "L2 = [[], []]\n",
    "for i in range(len(L1)):\n",
    "    L1[i].append(i)\n",
    "    L2[i].append(i)\n",
    "print(L1, L2)"
   ]
  },
  {
   "cell_type": "code",
   "execution_count": null,
   "metadata": {},
   "outputs": [],
   "source": [
    "def append_val(val, list_1=[]): # list object reused between calls\n",
    "    list_1.append(val)\n",
    "    print(list_1)\n",
    "\n",
    "append_val(3)\n",
    "append_val(4)\n"
   ]
  },
  {
   "cell_type": "code",
   "execution_count": null,
   "metadata": {},
   "outputs": [],
   "source": [
    "L = [1,2,3]\n",
    "L.append(4)\n",
    "L.append(2)\n",
    "L.extend([4, 3, 2])\n",
    "print(L.count(2))\n",
    "L.insert(2, 10)\n",
    "print(L)\n",
    "L.remove(2)\n",
    "print(L)\n",
    "print(L.index(10))\n",
    "L.pop()\n",
    "print(L)\n",
    "L.pop(1)\n",
    "print(L)\n",
    "L.sort()\n",
    "print(L)\n",
    "L.reverse()\n",
    "print(L)\n"
   ]
  },
  {
   "cell_type": "markdown",
   "metadata": {},
   "source": [
    "<h3>5.3.1, Cloning</h3>"
   ]
  },
  {
   "cell_type": "code",
   "execution_count": null,
   "metadata": {},
   "outputs": [],
   "source": [
    "import copy\n",
    "L = [2]\n",
    "L1 = [L]\n",
    "L2 = L1[:]\n",
    "L.append(3)\n",
    "print(f'L1 = {L1}, L2 = {L2}')\n",
    "L2 = copy.deepcopy(L1)\n",
    "L.append(3)\n",
    "print(f'L1 = {L1}, L2 = {L2}')\n"
   ]
  },
  {
   "cell_type": "code",
   "execution_count": null,
   "metadata": {},
   "outputs": [],
   "source": [
    "L1 = [2]\n",
    "L2 = [L1, L1]\n",
    "L3 = copy.deepcopy(L2) # copies one object once only, so not safe always\n",
    "L3[0].append(3)\n",
    "print(f'L2 = {L2}, L3 = {L3}')"
   ]
  },
  {
   "cell_type": "markdown",
   "metadata": {},
   "source": [
    "<h3>5.3.2 List Comprehension</h3>"
   ]
  },
  {
   "cell_type": "code",
   "execution_count": null,
   "metadata": {},
   "outputs": [],
   "source": [
    "# [expr for elem in iterable if test]\n",
    "L = [e**2 for e in range(6)]\n",
    "print(L)\n",
    "L = [e**2 for e in range(6) if e % 2 == 0]\n",
    "print(L)\n",
    "L = [(x, y)\n",
    "     for x in range(6) if x % 2 == 0\n",
    "     for y in range(6) if y % 2 == 0\n",
    "     ]\n",
    "print(L)\n"
   ]
  },
  {
   "cell_type": "code",
   "execution_count": null,
   "metadata": {},
   "outputs": [],
   "source": [
    "# less than 100 !!\n",
    "primes = [x for x in range(2, 100) if all(x % y != 0 for y in range(3, round(x/2)+1))]\n",
    "print(primes)"
   ]
  },
  {
   "cell_type": "code",
   "execution_count": null,
   "metadata": {},
   "outputs": [],
   "source": [
    "# between 2 and 100 !!\n",
    "not_primes = [x for x in range(4, 100+1) if any(x %\n",
    "                                                y == 0 for y in range(2, round(x/2)+1))]\n",
    "print(not_primes)\n"
   ]
  },
  {
   "cell_type": "markdown",
   "metadata": {},
   "source": [
    "<h3>5.4 Higher Order operations on lists</h3>"
   ]
  },
  {
   "cell_type": "code",
   "execution_count": null,
   "metadata": {},
   "outputs": [],
   "source": [
    "# custom function, 127\n",
    "def apply_to_each(L, f):\n",
    "    for i in range(len(L)):\n",
    "        L[i] = f(L[i])\n",
    "L = [1,2.63,-3]\n",
    "apply_to_each(L, abs)\n",
    "print(L)\n",
    "apply_to_each(L, int)\n",
    "print(L)\n",
    "apply_to_each(L, lambda x: x**2)\n",
    "print(L)\n",
    "\n"
   ]
  },
  {
   "cell_type": "code",
   "execution_count": null,
   "metadata": {},
   "outputs": [],
   "source": [
    "# built in higher order functions, 127\n",
    "# map\n",
    "for i in map(lambda x: x**2, [1,2,3]):\n",
    "    print(i)\n",
    "\n",
    "L1 = [10,20,30]\n",
    "L2 = [5, 25, 28]\n",
    "for i in map(min, L1, L2): # min takes 2 args , so two lists are provided (of same length)\n",
    "    print(i)"
   ]
  },
  {
   "cell_type": "code",
   "execution_count": 2,
   "metadata": {},
   "outputs": [
    {
     "name": "stdout",
     "output_type": "stream",
     "text": [
      "9\n"
     ]
    }
   ],
   "source": [
    "def f(L1, L2):  # 128\n",
    "    \"\"\"L1, L2 lists of same length of numbers\n",
    "    returns the sum of raising each element in L1 to the power of the element at the same index in L2\n",
    "    e.g. f([1,2], [2,3]) returns 9\"\"\"\n",
    "    \"\"\" total = 0\n",
    "    for i in map(lambda x,y: x**y, L1, L2):\n",
    "        total += i\n",
    "    return total \"\"\"\n",
    "\n",
    "    return sum(map(lambda x, y: x**y, L1, L2))\n",
    "\n",
    "\n",
    "L1, L2 = [1, 2], [2, 3]\n",
    "print(f(L1, L2))\n"
   ]
  },
  {
   "cell_type": "markdown",
   "metadata": {},
   "source": [
    "<h3>5.5 Strings, Tuples, Ranges, and Lists</h3>"
   ]
  },
  {
   "cell_type": "code",
   "execution_count": 8,
   "metadata": {},
   "outputs": [
    {
     "name": "stdout",
     "output_type": "stream",
     "text": [
      "[12, 'adnan', 152.56, 'Dhaka', 'CS']\n",
      "[25, 25, 25, 25, 25, 25, 25, 25, 25, 25]\n",
      "column column column column column \n"
     ]
    }
   ],
   "source": [
    "# These are sequence types 129\n",
    "L1 = [12, 'adnan', 152.56]\n",
    "L2 = ['Dhaka', 'CS']\n",
    "print(L1+L2)\n",
    "seq1 = [25] * 10\n",
    "print(seq1)\n",
    "\n",
    "col_name = \"column \"\n",
    "print(col_name * 5)\n"
   ]
  },
  {
   "cell_type": "code",
   "execution_count": 24,
   "metadata": {},
   "outputs": [
    {
     "name": "stdout",
     "output_type": "stream",
     "text": [
      "3\n",
      "['Bangladesh', 'is', 'a', 'country']\n",
      "['South', 'East', 'Asia']\n",
      "-1\n",
      "14\n",
      "bangladesh is a country\n"
     ]
    }
   ],
   "source": [
    "name =\"Bangladesh is a country\" # 130\n",
    "print(name.count('a'))\n",
    "print(name.split())\n",
    "origin = 'South, East, Asia'\n",
    "print(list(map(str.lstrip, origin.split(','))))\n",
    "\n",
    "print(name.find('z'))\n",
    "# print(name.index('z')) # error\n",
    "print(name.rfind('a'))\n",
    "\n",
    "print(name.lower())\n"
   ]
  },
  {
   "cell_type": "markdown",
   "metadata": {},
   "source": [
    "<h3>5.6 Sets</h3>"
   ]
  },
  {
   "cell_type": "code",
   "execution_count": 27,
   "metadata": {},
   "outputs": [
    {
     "name": "stdout",
     "output_type": "stream",
     "text": [
      "['football', 'cricket', 'chess']\n",
      "['football', 'golf', 'chess', 'cricket', 'carrom']\n"
     ]
    }
   ],
   "source": [
    "# page 131\n",
    "set1 = {'football', 'cricket'}\n",
    "set1.add('chess')\n",
    "print(list(set1))\n",
    "set1.update(['carrom', 'golf'])\n",
    "print(list(set1))"
   ]
  },
  {
   "cell_type": "code",
   "execution_count": 34,
   "metadata": {},
   "outputs": [
    {
     "name": "stdout",
     "output_type": "stream",
     "text": [
      "{1}\n",
      "{1, 2, 3, 4, 5}\n",
      "{2, 3}\n",
      "True\n"
     ]
    }
   ],
   "source": [
    "set1 = {1,2,3}\n",
    "set2 = {4,5,1}\n",
    "print(set1 & set2) # intersection\n",
    "print(set1 | set2) # union\n",
    "print(set1 - set2) # difference\n",
    "set3 = {3} \n",
    "print(set3 <= set1) # subset"
   ]
  },
  {
   "cell_type": "code",
   "execution_count": 1,
   "metadata": {},
   "outputs": [
    {
     "name": "stdout",
     "output_type": "stream",
     "text": [
      "{(1, 2, 3)}\n",
      "True\n"
     ]
    },
    {
     "data": {
      "text/plain": [
       "' set3 = {(1,2,[3])} error\\nprint(set3)\\nprint((1,2,[3]) in set3) '"
      ]
     },
     "execution_count": 1,
     "metadata": {},
     "output_type": "execute_result"
    }
   ],
   "source": [
    "# set2 = {[1,2,3]} # error, list is not hashable, so cant be an element of set\n",
    "# print(set2)\n",
    "\n",
    "set2 = {(1,2,3)}\n",
    "print(set2)\n",
    "print((1,2,3) in set2)\n",
    "\n",
    "\"\"\" set3 = {(1,2,[3])} error\n",
    "print(set3)\n",
    "print((1,2,[3]) in set3) \"\"\""
   ]
  },
  {
   "cell_type": "markdown",
   "metadata": {},
   "source": [
    "<h3>5.7 Dictionaries</h3>"
   ]
  },
  {
   "cell_type": "code",
   "execution_count": 5,
   "metadata": {},
   "outputs": [
    {
     "name": "stdout",
     "output_type": "stream",
     "text": [
      "jan - 1\n"
     ]
    }
   ],
   "source": [
    "month_numbers = {'jan': 1, 'feb': 2, 1: 'jan', 2: 'feb'}\n",
    "print(month_numbers[1], '-', month_numbers['jan'])\n",
    "# error: print(month_numbers[3]) you cannot access using index\n"
   ]
  },
  {
   "cell_type": "code",
   "execution_count": 7,
   "metadata": {},
   "outputs": [
    {
     "name": "stdout",
     "output_type": "stream",
     "text": [
      "['France', 'Italy', 'Japan']\n",
      "['Paris', 'Rome', 'Tokyo']\n"
     ]
    }
   ],
   "source": [
    "# dict_values and dict_keys are types of .values() and .keys()\n",
    "# the returned objects are view objects\n",
    "capitals = {'France': 'Paris', 'Italy': 'Rome', 'Japan': 'Tokyo'}\n",
    "print(list(capitals.keys()))\n",
    "print(list(capitals.values()))"
   ]
  },
  {
   "cell_type": "code",
   "execution_count": 10,
   "metadata": {},
   "outputs": [
    {
     "name": "stdout",
     "output_type": "stream",
     "text": [
      "12\n"
     ]
    }
   ],
   "source": [
    "def get_min(d):\n",
    "    \"\"\"d a dict mapping letters to ints\n",
    "        returns the value in d with the key that occurs first\n",
    "        in the alphabet. E.g., if d = {'x' : 11, 'b' : 12}, get_min\n",
    "        returns 12.\"\"\"\n",
    "    return d[min(list(d.keys()))]\n",
    "\n",
    "print(get_min({'x' : 11, 'b' : 12}))\n",
    "    \n",
    "    \n"
   ]
  },
  {
   "cell_type": "code",
   "execution_count": null,
   "metadata": {},
   "outputs": [],
   "source": [
    "# p 139: tuples as keys\n",
    "d = {('A10', '1 june 2022'): '1 june 2022, 4 pm', ('A10', '2 june 2022'): '3 june 2022, 12 am'}"
   ]
  },
  {
   "cell_type": "code",
   "execution_count": 16,
   "metadata": {},
   "outputs": [
    {
     "name": "stdout",
     "output_type": "stream",
     "text": [
      "54\n"
     ]
    }
   ],
   "source": [
    "# p 140, a list cannot be used as key of a dictionary, as list is not hashable\n",
    "# error --> a = [1,2] ; d[a]\n",
    "a = (1, 2)\n",
    "d = {a: 45, (2, 1): 54}\n",
    "print(d[(2, 1)])\n"
   ]
  },
  {
   "cell_type": "markdown",
   "metadata": {},
   "source": [
    "<h3>5.8 Dictionary Comprehension</h3>"
   ]
  },
  {
   "cell_type": "code",
   "execution_count": 19,
   "metadata": {},
   "outputs": [
    {
     "name": "stdout",
     "output_type": "stream",
     "text": [
      "{'One': 1, 'Two': 2, 'Ten': 10}\n",
      "{'Ten': 10}\n"
     ]
    }
   ],
   "source": [
    "number_to_word = {1: 'One', 2: 'Two', 10: 'Ten'}\n",
    "word_to_num = {w: d for d, w in number_to_word.items()}\n",
    "print(word_to_num)\n",
    "\n",
    "word_to_num_atleast_ten = {w: d for d, w in number_to_word.items() if d >= 10}\n",
    "print(word_to_num_atleast_ten)\n"
   ]
  },
  {
   "cell_type": "markdown",
   "metadata": {},
   "source": [
    "<h4>Book Cipher</h4>"
   ]
  },
  {
   "cell_type": "code",
   "execution_count": 24,
   "metadata": {},
   "outputs": [
    {
     "name": "stdout",
     "output_type": "stream",
     "text": [
      "1*13*2*6*57*2*1*13\n"
     ]
    }
   ],
   "source": [
    "don_quixote = 'In a village of La Mancha, the name of which I have no desire to call to mind, there lived not long since one of \\\n",
    "               those gentlemen that keep a lance in the lance-rack, an old buckler, \\\n",
    "               a lean hack, and a greyhound for coursing.'\n",
    "\n",
    "gen_code_keys = (lambda book, plain_text: (\n",
    "    {c: str(book.find(c)) for c in plain_text}))\n",
    "\n",
    "encoder = (lambda code_keys, plain_text: ''.join('*' + code_keys[c] for c in plain_text)[1:])\n",
    "encrypt = (lambda book, plain_text: encoder(gen_code_keys(book=book, plain_text=plain_text), plain_text=plain_text))\n",
    "print(encrypt(don_quixote, 'no is no'))\n"
   ]
  },
  {
   "cell_type": "code",
   "execution_count": null,
   "metadata": {},
   "outputs": [],
   "source": [
    "\n"
   ]
  }
 ],
 "metadata": {
  "kernelspec": {
   "display_name": "Python 3.10.0 64-bit ('3.10.0')",
   "language": "python",
   "name": "python3"
  },
  "language_info": {
   "codemirror_mode": {
    "name": "ipython",
    "version": 3
   },
   "file_extension": ".py",
   "mimetype": "text/x-python",
   "name": "python",
   "nbconvert_exporter": "python",
   "pygments_lexer": "ipython3",
   "version": "3.10.0"
  },
  "orig_nbformat": 4,
  "vscode": {
   "interpreter": {
    "hash": "13393cd6d85da64d0b9eff58725462411c3cfd713d7e165242e29133b923446f"
   }
  }
 },
 "nbformat": 4,
 "nbformat_minor": 2
}
