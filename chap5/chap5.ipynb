{
 "cells": [
  {
   "cell_type": "markdown",
   "metadata": {},
   "source": [
    "5.1 Tuples"
   ]
  },
  {
   "cell_type": "code",
   "execution_count": 5,
   "metadata": {},
   "outputs": [
    {
     "name": "stdout",
     "output_type": "stream",
     "text": [
      "((1, 'two', 3), 3.25)\n",
      "(1, 'two', 3, (1, 'two', 3), 3.25)\n",
      "(1, 'two', 3, (1, 'two', 3), 3.25)\n",
      "(1, 'two', 3)\n",
      "(3, (1, 'two', 3), 3.25)\n"
     ]
    }
   ],
   "source": [
    "t1 = (1, 'two', 3)\n",
    "t2 = (t1, 3.25)\n",
    "print(t2)\n",
    "print((t1 + t2))\n",
    "print(t1 + t2)\n",
    "print((t1 + t2)[3])\n",
    "print((t1 + t2)[2:5])\n"
   ]
  },
  {
   "cell_type": "code",
   "execution_count": 6,
   "metadata": {},
   "outputs": [
    {
     "name": "stdout",
     "output_type": "stream",
     "text": [
      "('a', 2)\n"
     ]
    }
   ],
   "source": [
    "def intersect(t1, t2):\n",
    "    \"\"\"Assumes t1 and t2 are tuples\n",
    "    Returns a tuple containing elements that are in\n",
    "    both t1 and t2\"\"\"\n",
    "    result = ()\n",
    "    for e in t1:\n",
    "        if e in t2:\n",
    "          result += (e,) # concats the tuples\n",
    "    return result\n",
    "print(intersect((1, 'a', 2), ('b', 2, 'a')))\n"
   ]
  },
  {
   "cell_type": "code",
   "execution_count": 3,
   "metadata": {},
   "outputs": [
    {
     "name": "stdout",
     "output_type": "stream",
     "text": [
      "(3, 15)\n"
     ]
    }
   ],
   "source": [
    "# p 116, section 5.1\n",
    "def find_extreme_divisors(n1, n2):\n",
    "    \"\"\"Assumes that n1 and n2 are positive ints\n",
    "       Returns a tuple containing the smallest common\n",
    "       divisor > 1 and the largest common divisor of n1 & n2. If no\n",
    "       common divisor, other than 1, returns (None, None)\"\"\"\n",
    "    lowest, highest = None, None\n",
    "    for i in range(2, min(n1, n2) + 1):\n",
    "        if n1 % i == 0 and n2 % i == 0:\n",
    "            if lowest is None:\n",
    "                lowest = i\n",
    "            highest = i\n",
    "    return lowest, highest\n",
    "\n",
    "print(find_extreme_divisors(15, 60))\n"
   ]
  },
  {
   "cell_type": "markdown",
   "metadata": {},
   "source": [
    "5.3 Lists and Mutability"
   ]
  },
  {
   "cell_type": "code",
   "execution_count": 1,
   "metadata": {},
   "outputs": [
    {
     "name": "stdout",
     "output_type": "stream",
     "text": [
      "25.333333333333332\n",
      "True\n"
     ]
    }
   ],
   "source": [
    "a = (25,23, 28)\n",
    "print(sum(a)/len(a))\n",
    "\n",
    "# page 120\n",
    "L = [1,2,3]\n",
    "L.append(L)\n",
    "print(L is L[-1])"
   ]
  },
  {
   "cell_type": "code",
   "execution_count": 3,
   "metadata": {},
   "outputs": [
    {
     "name": "stdout",
     "output_type": "stream",
     "text": [
      "[[0, 1], [0, 1]] [[0], [1]]\n"
     ]
    }
   ],
   "source": [
    "L1 = [[]] * 2\n",
    "L2 = [[], []]\n",
    "for i in range(len(L1)):\n",
    "    L1[i].append(i)\n",
    "    L2[i].append(i)\n",
    "print(L1, L2)"
   ]
  },
  {
   "cell_type": "code",
   "execution_count": 2,
   "metadata": {},
   "outputs": [
    {
     "name": "stdout",
     "output_type": "stream",
     "text": [
      "[3]\n",
      "[3, 4]\n"
     ]
    }
   ],
   "source": [
    "def append_val(val, list_1=[]):\n",
    "    list_1.append(val)\n",
    "    print(list_1)\n",
    "\n",
    "append_val(3)\n",
    "append_val(4)\n"
   ]
  }
 ],
 "metadata": {
  "interpreter": {
   "hash": "a516731ae833d49fa961f0ea8efca616d7b6481bad2820f0720da67a09406ff1"
  },
  "kernelspec": {
   "display_name": "Python 3.9.12 64-bit ('3.9.12')",
   "language": "python",
   "name": "python3"
  },
  "language_info": {
   "codemirror_mode": {
    "name": "ipython",
    "version": 3
   },
   "file_extension": ".py",
   "mimetype": "text/x-python",
   "name": "python",
   "nbconvert_exporter": "python",
   "pygments_lexer": "ipython3",
   "version": "3.9.12"
  },
  "orig_nbformat": 4
 },
 "nbformat": 4,
 "nbformat_minor": 2
}
