{
 "cells": [
  {
   "cell_type": "markdown",
   "metadata": {},
   "source": [
    "5.1 Tuples"
   ]
  },
  {
   "cell_type": "code",
   "execution_count": null,
   "metadata": {},
   "outputs": [],
   "source": [
    "t1 = (1, 'two', 3)\n",
    "t2 = (t1, 3.25)\n",
    "print(t2)\n",
    "print((t1 + t2))\n",
    "print(t1 + t2)\n",
    "print((t1 + t2)[3])\n",
    "print((t1 + t2)[2:5])\n"
   ]
  },
  {
   "cell_type": "code",
   "execution_count": null,
   "metadata": {},
   "outputs": [],
   "source": [
    "def intersect(t1, t2):\n",
    "    \"\"\"Assumes t1 and t2 are tuples\n",
    "    Returns a tuple containing elements that are in\n",
    "    both t1 and t2\"\"\"\n",
    "    result = ()\n",
    "    for e in t1:\n",
    "        if e in t2:\n",
    "          result += (e,) # concats the tuples\n",
    "    return result\n",
    "print(intersect((1, 'a', 2), ('b', 2, 'a')))\n"
   ]
  },
  {
   "cell_type": "code",
   "execution_count": null,
   "metadata": {},
   "outputs": [],
   "source": [
    "# p 116, section 5.1\n",
    "def find_extreme_divisors(n1, n2):\n",
    "    \"\"\"Assumes that n1 and n2 are positive ints\n",
    "       Returns a tuple containing the smallest common\n",
    "       divisor > 1 and the largest common divisor of n1 & n2. If no\n",
    "       common divisor, other than 1, returns (None, None)\"\"\"\n",
    "    lowest, highest = None, None\n",
    "    for i in range(2, min(n1, n2) + 1):\n",
    "        if n1 % i == 0 and n2 % i == 0:\n",
    "            if lowest is None:\n",
    "                lowest = i\n",
    "            highest = i\n",
    "    return lowest, highest\n",
    "\n",
    "print(find_extreme_divisors(15, 60))\n"
   ]
  },
  {
   "cell_type": "markdown",
   "metadata": {},
   "source": [
    "5.3 Lists and Mutability (Page 120)"
   ]
  },
  {
   "cell_type": "code",
   "execution_count": null,
   "metadata": {},
   "outputs": [],
   "source": [
    "a = (25,23, 28)\n",
    "print(sum(a)/len(a)) # sum works for tuples\n",
    "\n",
    "# page 120\n",
    "L = [1,2,3]\n",
    "L.append(L)\n",
    "print(L is L[-1]) # list is an object"
   ]
  },
  {
   "cell_type": "code",
   "execution_count": null,
   "metadata": {},
   "outputs": [],
   "source": [
    "L1 = [[]] * 2 # same reference twice\n",
    "L2 = [[], []]\n",
    "for i in range(len(L1)):\n",
    "    L1[i].append(i)\n",
    "    L2[i].append(i)\n",
    "print(L1, L2)"
   ]
  },
  {
   "cell_type": "code",
   "execution_count": null,
   "metadata": {},
   "outputs": [],
   "source": [
    "def append_val(val, list_1=[]): # list object reused between calls\n",
    "    list_1.append(val)\n",
    "    print(list_1)\n",
    "\n",
    "append_val(3)\n",
    "append_val(4)\n"
   ]
  },
  {
   "cell_type": "code",
   "execution_count": null,
   "metadata": {},
   "outputs": [],
   "source": [
    "L = [1,2,3]\n",
    "L.append(4)\n",
    "L.append(2)\n",
    "L.extend([4, 3, 2])\n",
    "print(L.count(2))\n",
    "L.insert(2, 10)\n",
    "print(L)\n",
    "L.remove(2)\n",
    "print(L)\n",
    "print(L.index(10))\n",
    "L.pop()\n",
    "print(L)\n",
    "L.pop(1)\n",
    "print(L)\n",
    "L.sort()\n",
    "print(L)\n",
    "L.reverse()\n",
    "print(L)\n"
   ]
  },
  {
   "cell_type": "markdown",
   "metadata": {},
   "source": [
    "<h3>5.3.1, Cloning</h3>"
   ]
  },
  {
   "cell_type": "code",
   "execution_count": null,
   "metadata": {},
   "outputs": [],
   "source": [
    "import copy\n",
    "L = [2]\n",
    "L1 = [L]\n",
    "L2 = L1[:]\n",
    "L.append(3)\n",
    "print(f'L1 = {L1}, L2 = {L2}')\n",
    "L2 = copy.deepcopy(L1)\n",
    "L.append(3)\n",
    "print(f'L1 = {L1}, L2 = {L2}')\n"
   ]
  },
  {
   "cell_type": "code",
   "execution_count": null,
   "metadata": {},
   "outputs": [],
   "source": [
    "L1 = [2]\n",
    "L2 = [L1, L1]\n",
    "L3 = copy.deepcopy(L2) # copies one object once only, so not safe always\n",
    "L3[0].append(3)\n",
    "print(f'L2 = {L2}, L3 = {L3}')"
   ]
  },
  {
   "cell_type": "markdown",
   "metadata": {},
   "source": [
    "<h3>5.3.2 List Comprehension</h3>"
   ]
  },
  {
   "cell_type": "code",
   "execution_count": null,
   "metadata": {},
   "outputs": [],
   "source": [
    "# [expr for elem in iterable if test]\n",
    "L = [e**2 for e in range(6)]\n",
    "print(L)\n",
    "L = [e**2 for e in range(6) if e % 2 == 0]\n",
    "print(L)\n",
    "L = [(x, y)\n",
    "     for x in range(6) if x % 2 == 0\n",
    "     for y in range(6) if y % 2 == 0\n",
    "     ]\n",
    "print(L)\n"
   ]
  },
  {
   "cell_type": "code",
   "execution_count": null,
   "metadata": {},
   "outputs": [],
   "source": [
    "# less than 100 !!\n",
    "primes = [x for x in range(2, 100) if all(x % y != 0 for y in range(3, round(x/2)+1))]\n",
    "print(primes)"
   ]
  },
  {
   "cell_type": "code",
   "execution_count": null,
   "metadata": {},
   "outputs": [],
   "source": [
    "# between 2 and 100 !!\n",
    "not_primes = [x for x in range(4, 100+1) if any(x %\n",
    "                                                y == 0 for y in range(2, round(x/2)+1))]\n",
    "print(not_primes)\n"
   ]
  },
  {
   "cell_type": "markdown",
   "metadata": {},
   "source": [
    "<h3>5.4 Higher Order operations on lists</h3>"
   ]
  },
  {
   "cell_type": "code",
   "execution_count": null,
   "metadata": {},
   "outputs": [],
   "source": [
    "# custom function, 127\n",
    "def apply_to_each(L, f):\n",
    "    for i in range(len(L)):\n",
    "        L[i] = f(L[i])\n",
    "L = [1,2.63,-3]\n",
    "apply_to_each(L, abs)\n",
    "print(L)\n",
    "apply_to_each(L, int)\n",
    "print(L)\n",
    "apply_to_each(L, lambda x: x**2)\n",
    "print(L)\n",
    "\n"
   ]
  },
  {
   "cell_type": "code",
   "execution_count": null,
   "metadata": {},
   "outputs": [],
   "source": [
    "# built in higher order functions, 127\n",
    "# map\n",
    "for i in map(lambda x: x**2, [1,2,3]):\n",
    "    print(i)\n",
    "\n",
    "L1 = [10,20,30]\n",
    "L2 = [5, 25, 28]\n",
    "for i in map(min, L1, L2): # min takes 2 args , so two lists are provided (of same length)\n",
    "    print(i)"
   ]
  },
  {
   "cell_type": "code",
   "execution_count": 2,
   "metadata": {},
   "outputs": [
    {
     "name": "stdout",
     "output_type": "stream",
     "text": [
      "9\n"
     ]
    }
   ],
   "source": [
    "def f(L1, L2):  # 128\n",
    "    \"\"\"L1, L2 lists of same length of numbers\n",
    "    returns the sum of raising each element in L1 to the power of the element at the same index in L2\n",
    "    e.g. f([1,2], [2,3]) returns 9\"\"\"\n",
    "    \"\"\" total = 0\n",
    "    for i in map(lambda x,y: x**y, L1, L2):\n",
    "        total += i\n",
    "    return total \"\"\"\n",
    "\n",
    "    return sum(map(lambda x, y: x**y, L1, L2))\n",
    "\n",
    "\n",
    "L1, L2 = [1, 2], [2, 3]\n",
    "print(f(L1, L2))\n"
   ]
  },
  {
   "cell_type": "markdown",
   "metadata": {},
   "source": [
    "<h3>5.5 Strings, Tuples, Ranges, and Lists</h3>"
   ]
  },
  {
   "cell_type": "code",
   "execution_count": 8,
   "metadata": {},
   "outputs": [
    {
     "name": "stdout",
     "output_type": "stream",
     "text": [
      "[12, 'adnan', 152.56, 'Dhaka', 'CS']\n",
      "[25, 25, 25, 25, 25, 25, 25, 25, 25, 25]\n",
      "column column column column column \n"
     ]
    }
   ],
   "source": [
    "# These are sequence types 129\n",
    "L1 = [12, 'adnan', 152.56]\n",
    "L2 = ['Dhaka', 'CS']\n",
    "print(L1+L2)\n",
    "seq1 = [25] * 10\n",
    "print(seq1)\n",
    "\n",
    "col_name = \"column \"\n",
    "print(col_name * 5)\n"
   ]
  },
  {
   "cell_type": "code",
   "execution_count": 24,
   "metadata": {},
   "outputs": [
    {
     "name": "stdout",
     "output_type": "stream",
     "text": [
      "3\n",
      "['Bangladesh', 'is', 'a', 'country']\n",
      "['South', 'East', 'Asia']\n",
      "-1\n",
      "14\n",
      "bangladesh is a country\n"
     ]
    }
   ],
   "source": [
    "name =\"Bangladesh is a country\" # 130\n",
    "print(name.count('a'))\n",
    "print(name.split())\n",
    "origin = 'South, East, Asia'\n",
    "print(list(map(str.lstrip, origin.split(','))))\n",
    "\n",
    "print(name.find('z'))\n",
    "# print(name.index('z')) # error\n",
    "print(name.rfind('a'))\n",
    "\n",
    "print(name.lower())\n"
   ]
  },
  {
   "cell_type": "markdown",
   "metadata": {},
   "source": [
    "<h3>5.6 Sets</h3>"
   ]
  },
  {
   "cell_type": "code",
   "execution_count": 27,
   "metadata": {},
   "outputs": [
    {
     "name": "stdout",
     "output_type": "stream",
     "text": [
      "['football', 'cricket', 'chess']\n",
      "['football', 'golf', 'chess', 'cricket', 'carrom']\n"
     ]
    }
   ],
   "source": [
    "# page 131\n",
    "set1 = {'football', 'cricket'}\n",
    "set1.add('chess')\n",
    "print(list(set1))\n",
    "set1.update(['carrom', 'golf'])\n",
    "print(list(set1))"
   ]
  },
  {
   "cell_type": "code",
   "execution_count": 34,
   "metadata": {},
   "outputs": [
    {
     "name": "stdout",
     "output_type": "stream",
     "text": [
      "{1}\n",
      "{1, 2, 3, 4, 5}\n",
      "{2, 3}\n",
      "True\n"
     ]
    }
   ],
   "source": [
    "set1 = {1,2,3}\n",
    "set2 = {4,5,1}\n",
    "print(set1 & set2) # intersection\n",
    "print(set1 | set2) # union\n",
    "print(set1 - set2) # difference\n",
    "set3 = {3} \n",
    "print(set3 <= set1) # subset"
   ]
  },
  {
   "cell_type": "code",
   "execution_count": 31,
   "metadata": {},
   "outputs": [
    {
     "name": "stdout",
     "output_type": "stream",
     "text": [
      "{(1, 2, 3)}\n",
      "True\n"
     ]
    },
    {
     "ename": "TypeError",
     "evalue": "unhashable type: 'list'",
     "output_type": "error",
     "traceback": [
      "\u001b[1;31m---------------------------------------------------------------------------\u001b[0m",
      "\u001b[1;31mTypeError\u001b[0m                                 Traceback (most recent call last)",
      "\u001b[1;32m~\\AppData\\Local\\Temp/ipykernel_10260/2102625402.py\u001b[0m in \u001b[0;36m<module>\u001b[1;34m\u001b[0m\n\u001b[0;32m      5\u001b[0m \u001b[0mprint\u001b[0m\u001b[1;33m(\u001b[0m\u001b[1;33m(\u001b[0m\u001b[1;36m1\u001b[0m\u001b[1;33m,\u001b[0m\u001b[1;36m2\u001b[0m\u001b[1;33m,\u001b[0m\u001b[1;36m3\u001b[0m\u001b[1;33m)\u001b[0m \u001b[1;32min\u001b[0m \u001b[0mset2\u001b[0m\u001b[1;33m)\u001b[0m\u001b[1;33m\u001b[0m\u001b[1;33m\u001b[0m\u001b[0m\n\u001b[0;32m      6\u001b[0m \u001b[1;33m\u001b[0m\u001b[0m\n\u001b[1;32m----> 7\u001b[1;33m \u001b[0mset3\u001b[0m \u001b[1;33m=\u001b[0m \u001b[1;33m{\u001b[0m\u001b[1;33m(\u001b[0m\u001b[1;36m1\u001b[0m\u001b[1;33m,\u001b[0m\u001b[1;36m2\u001b[0m\u001b[1;33m,\u001b[0m\u001b[1;33m[\u001b[0m\u001b[1;36m3\u001b[0m\u001b[1;33m]\u001b[0m\u001b[1;33m)\u001b[0m\u001b[1;33m}\u001b[0m\u001b[1;33m\u001b[0m\u001b[1;33m\u001b[0m\u001b[0m\n\u001b[0m\u001b[0;32m      8\u001b[0m \u001b[0mprint\u001b[0m\u001b[1;33m(\u001b[0m\u001b[0mset3\u001b[0m\u001b[1;33m)\u001b[0m\u001b[1;33m\u001b[0m\u001b[1;33m\u001b[0m\u001b[0m\n\u001b[0;32m      9\u001b[0m \u001b[0mprint\u001b[0m\u001b[1;33m(\u001b[0m\u001b[1;33m(\u001b[0m\u001b[1;36m1\u001b[0m\u001b[1;33m,\u001b[0m\u001b[1;36m2\u001b[0m\u001b[1;33m,\u001b[0m\u001b[1;33m[\u001b[0m\u001b[1;36m3\u001b[0m\u001b[1;33m]\u001b[0m\u001b[1;33m)\u001b[0m \u001b[1;32min\u001b[0m \u001b[0mset3\u001b[0m\u001b[1;33m)\u001b[0m\u001b[1;33m\u001b[0m\u001b[1;33m\u001b[0m\u001b[0m\n",
      "\u001b[1;31mTypeError\u001b[0m: unhashable type: 'list'"
     ]
    }
   ],
   "source": [
    "# set2 = {[1,2,3]} # error, list is not hashable, so cant be an element of set\n",
    "# print(set2)\n",
    "\n",
    "set2 = {(1,2,3)}\n",
    "print(set2)\n",
    "print((1,2,3) in set2)\n",
    "\n",
    "\"\"\" set3 = {(1,2,[3])} error\n",
    "print(set3)\n",
    "print((1,2,[3]) in set3) \"\"\""
   ]
  }
 ],
 "metadata": {
  "interpreter": {
   "hash": "970a2a4939579a4c22872227820a264ec023ee5692739211cbaca24386397975"
  },
  "kernelspec": {
   "display_name": "Python 3.9.12 64-bit (windows store)",
   "language": "python",
   "name": "python3"
  },
  "language_info": {
   "codemirror_mode": {
    "name": "ipython",
    "version": 3
   },
   "file_extension": ".py",
   "mimetype": "text/x-python",
   "name": "python",
   "nbconvert_exporter": "python",
   "pygments_lexer": "ipython3",
   "version": "3.9.13"
  },
  "orig_nbformat": 4
 },
 "nbformat": 4,
 "nbformat_minor": 2
}
