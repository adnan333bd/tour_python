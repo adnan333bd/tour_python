{
 "cells": [
  {
   "cell_type": "markdown",
   "metadata": {},
   "source": [
    "5.1 Tuples"
   ]
  },
  {
   "cell_type": "code",
   "execution_count": 5,
   "metadata": {},
   "outputs": [
    {
     "name": "stdout",
     "output_type": "stream",
     "text": [
      "((1, 'two', 3), 3.25)\n",
      "(1, 'two', 3, (1, 'two', 3), 3.25)\n",
      "(1, 'two', 3, (1, 'two', 3), 3.25)\n",
      "(1, 'two', 3)\n",
      "(3, (1, 'two', 3), 3.25)\n"
     ]
    }
   ],
   "source": [
    "t1 = (1, 'two', 3)\n",
    "t2 = (t1, 3.25)\n",
    "print(t2)\n",
    "print((t1 + t2))\n",
    "print(t1 + t2)\n",
    "print((t1 + t2)[3])\n",
    "print((t1 + t2)[2:5])\n"
   ]
  },
  {
   "cell_type": "code",
   "execution_count": 6,
   "metadata": {},
   "outputs": [
    {
     "name": "stdout",
     "output_type": "stream",
     "text": [
      "('a', 2)\n"
     ]
    }
   ],
   "source": [
    "def intersect(t1, t2):\n",
    "    \"\"\"Assumes t1 and t2 are tuples\n",
    "    Returns a tuple containing elements that are in\n",
    "    both t1 and t2\"\"\"\n",
    "    result = ()\n",
    "    for e in t1:\n",
    "        if e in t2:\n",
    "          result += (e,) # concats the tuples\n",
    "    return result\n",
    "print(intersect((1, 'a', 2), ('b', 2, 'a')))\n"
   ]
  },
  {
   "cell_type": "code",
   "execution_count": 3,
   "metadata": {},
   "outputs": [
    {
     "name": "stdout",
     "output_type": "stream",
     "text": [
      "(3, 15)\n"
     ]
    }
   ],
   "source": [
    "# p 116, section 5.1\n",
    "def find_extreme_divisors(n1, n2):\n",
    "    \"\"\"Assumes that n1 and n2 are positive ints\n",
    "       Returns a tuple containing the smallest common\n",
    "       divisor > 1 and the largest common divisor of n1 & n2. If no\n",
    "       common divisor, other than 1, returns (None, None)\"\"\"\n",
    "    lowest, highest = None, None\n",
    "    for i in range(2, min(n1, n2) + 1):\n",
    "        if n1 % i == 0 and n2 % i == 0:\n",
    "            if lowest is None:\n",
    "                lowest = i\n",
    "            highest = i\n",
    "    return lowest, highest\n",
    "\n",
    "print(find_extreme_divisors(15, 60))\n"
   ]
  },
  {
   "cell_type": "markdown",
   "metadata": {},
   "source": [
    "5.3 Lists and Mutability (Page 120)"
   ]
  },
  {
   "cell_type": "code",
   "execution_count": 1,
   "metadata": {},
   "outputs": [
    {
     "name": "stdout",
     "output_type": "stream",
     "text": [
      "25.333333333333332\n",
      "True\n"
     ]
    }
   ],
   "source": [
    "a = (25,23, 28)\n",
    "print(sum(a)/len(a)) # sum works for tuples\n",
    "\n",
    "# page 120\n",
    "L = [1,2,3]\n",
    "L.append(L)\n",
    "print(L is L[-1]) # list is an object"
   ]
  },
  {
   "cell_type": "code",
   "execution_count": 3,
   "metadata": {},
   "outputs": [
    {
     "name": "stdout",
     "output_type": "stream",
     "text": [
      "[[0, 1], [0, 1]] [[0], [1]]\n"
     ]
    }
   ],
   "source": [
    "L1 = [[]] * 2 # same reference twice\n",
    "L2 = [[], []]\n",
    "for i in range(len(L1)):\n",
    "    L1[i].append(i)\n",
    "    L2[i].append(i)\n",
    "print(L1, L2)"
   ]
  },
  {
   "cell_type": "code",
   "execution_count": 2,
   "metadata": {},
   "outputs": [
    {
     "name": "stdout",
     "output_type": "stream",
     "text": [
      "[3]\n",
      "[3, 4]\n"
     ]
    }
   ],
   "source": [
    "def append_val(val, list_1=[]): # list object reused between calls\n",
    "    list_1.append(val)\n",
    "    print(list_1)\n",
    "\n",
    "append_val(3)\n",
    "append_val(4)\n"
   ]
  },
  {
   "cell_type": "code",
   "execution_count": 9,
   "metadata": {},
   "outputs": [
    {
     "name": "stdout",
     "output_type": "stream",
     "text": [
      "3\n",
      "[1, 2, 10, 3, 4, 2, 4, 3, 2]\n",
      "[1, 10, 3, 4, 2, 4, 3, 2]\n",
      "1\n",
      "[1, 10, 3, 4, 2, 4, 3]\n",
      "[1, 3, 4, 2, 4, 3]\n",
      "[1, 2, 3, 3, 4, 4]\n",
      "[4, 4, 3, 3, 2, 1]\n"
     ]
    }
   ],
   "source": [
    "L = [1,2,3]\n",
    "L.append(4)\n",
    "L.append(2)\n",
    "L.extend([4, 3, 2])\n",
    "print(L.count(2))\n",
    "L.insert(2, 10)\n",
    "print(L)\n",
    "L.remove(2)\n",
    "print(L)\n",
    "print(L.index(10))\n",
    "L.pop()\n",
    "print(L)\n",
    "L.pop(1)\n",
    "print(L)\n",
    "L.sort()\n",
    "print(L)\n",
    "L.reverse()\n",
    "print(L)\n"
   ]
  },
  {
   "cell_type": "markdown",
   "metadata": {},
   "source": [
    "<h3>5.3.1, Cloning</h3>"
   ]
  },
  {
   "cell_type": "code",
   "execution_count": 5,
   "metadata": {},
   "outputs": [
    {
     "name": "stdout",
     "output_type": "stream",
     "text": [
      "L1 = [[2, 3]], L2 = [[2, 3]]\n",
      "L1 = [[2, 3, 3]], L2 = [[2, 3]]\n"
     ]
    }
   ],
   "source": [
    "import copy\n",
    "L = [2]\n",
    "L1 = [L]\n",
    "L2 = L1[:]\n",
    "L.append(3)\n",
    "print(f'L1 = {L1}, L2 = {L2}')\n",
    "L2 = copy.deepcopy(L1)\n",
    "L.append(3)\n",
    "print(f'L1 = {L1}, L2 = {L2}')\n"
   ]
  },
  {
   "cell_type": "code",
   "execution_count": 9,
   "metadata": {},
   "outputs": [
    {
     "name": "stdout",
     "output_type": "stream",
     "text": [
      "L2 = [[2], [2]], L3 = [[2, 3], [2, 3]]\n"
     ]
    }
   ],
   "source": [
    "L1 = [2]\n",
    "L2 = [L1, L1]\n",
    "L3 = copy.deepcopy(L2) # copies one object once only, so not safe always\n",
    "L3[0].append(3)\n",
    "print(f'L2 = {L2}, L3 = {L3}')"
   ]
  },
  {
   "cell_type": "markdown",
   "metadata": {},
   "source": [
    "<h3>5.3.2 List Comprehension</h3>"
   ]
  },
  {
   "cell_type": "code",
   "execution_count": 4,
   "metadata": {},
   "outputs": [
    {
     "name": "stdout",
     "output_type": "stream",
     "text": [
      "[0, 1, 4, 9, 16, 25]\n",
      "[0, 4, 16]\n",
      "[(0, 0), (0, 2), (0, 4), (2, 0), (2, 2), (2, 4), (4, 0), (4, 2), (4, 4)]\n"
     ]
    }
   ],
   "source": [
    "# [expr for elem in iterable if test]\n",
    "L = [e**2 for e in range(6)]\n",
    "print(L)\n",
    "L = [e**2 for e in range(6) if e % 2 == 0]\n",
    "print(L)\n",
    "L = [(x, y)\n",
    "     for x in range(6) if x % 2 == 0\n",
    "     for y in range(6) if y % 2 == 0\n",
    "     ]\n",
    "print(L)\n"
   ]
  },
  {
   "cell_type": "code",
   "execution_count": 8,
   "metadata": {},
   "outputs": [
    {
     "name": "stdout",
     "output_type": "stream",
     "text": [
      "[2, 3, 4, 5, 7, 11, 13, 17, 19, 23, 29, 31, 37, 41, 43, 47, 53, 59, 61, 67, 71, 73, 79, 83, 89]\n"
     ]
    }
   ],
   "source": [
    "# less than 100 !!\n",
    "primes = [x for x in range(2, 100) if all(x % y != 0 for y in range(3, round(x/2)+1))]\n",
    "print(primes)"
   ]
  },
  {
   "cell_type": "code",
   "execution_count": 9,
   "metadata": {},
   "outputs": [
    {
     "name": "stdout",
     "output_type": "stream",
     "text": [
      "[4, 6, 8, 9, 10, 12, 14, 15, 16, 18, 20, 21, 22, 24, 25, 26, 27, 28, 30, 32, 33, 34, 35, 36, 38, 39, 40, 42, 44, 45, 46, 48, 49, 50, 51, 52, 54, 55, 56, 57, 58, 60, 62, 63, 64, 65, 66, 68, 69, 70, 72, 74, 75, 76, 77, 78, 80, 81, 82, 84, 85, 86, 87, 88, 90, 91, 92, 93, 94, 95, 96, 98, 99, 100]\n"
     ]
    }
   ],
   "source": [
    "# between 2 and 100 !!\n",
    "not_primes = [x for x in range(4, 100+1) if any(x %\n",
    "                                                y == 0 for y in range(2, round(x/2)+1))]\n",
    "print(not_primes)\n"
   ]
  }
 ],
 "metadata": {
  "interpreter": {
   "hash": "a516731ae833d49fa961f0ea8efca616d7b6481bad2820f0720da67a09406ff1"
  },
  "kernelspec": {
   "display_name": "Python 3.9.12 64-bit ('3.9.12')",
   "language": "python",
   "name": "python3"
  },
  "language_info": {
   "codemirror_mode": {
    "name": "ipython",
    "version": 3
   },
   "file_extension": ".py",
   "mimetype": "text/x-python",
   "name": "python",
   "nbconvert_exporter": "python",
   "pygments_lexer": "ipython3",
   "version": "3.9.12"
  },
  "orig_nbformat": 4
 },
 "nbformat": 4,
 "nbformat_minor": 2
}
