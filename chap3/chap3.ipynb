{
 "cells": [
  {
   "cell_type": "markdown",
   "metadata": {},
   "source": [
    "3.1 Exhaustive Enumeration"
   ]
  },
  {
   "cell_type": "code",
   "execution_count": 8,
   "metadata": {},
   "outputs": [
    {
     "name": "stdout",
     "output_type": "stream",
     "text": [
      "81 is not a perfect cube\n"
     ]
    }
   ],
   "source": [
    "# Find  the cube root of a perfect cube\n",
    "x = int(input('Enter an integer: '))\n",
    "ans = 0\n",
    "while ans**3 < abs(x):\n",
    "    ans += 1\n",
    "if ans**3 != abs(x):\n",
    "    print(x, 'is not a perfect cube')\n",
    "else:\n",
    "    if x < 0:\n",
    "        ans = -ans\n",
    "    print('cube root of', x, 'is', ans)"
   ]
  },
  {
   "cell_type": "markdown",
   "metadata": {},
   "source": [
    "Primality Test"
   ]
  },
  {
   "cell_type": "code",
   "execution_count": 4,
   "metadata": {},
   "outputs": [
    {
     "name": "stdout",
     "output_type": "stream",
     "text": [
      "smallest divisor of 25 is 5\n"
     ]
    }
   ],
   "source": [
    "# Test if an int > 2, if not print smallest divisor\n",
    "x = int(input('Enter an integer greater than 2:'))\n",
    "smallest_divisor = None\n",
    "for guess in range(2, x):\n",
    "    if x % guess == 0:\n",
    "        smallest_divisor = guess\n",
    "        break\n",
    "if smallest_divisor != None:\n",
    "    print('smallest divisor of', x, 'is', smallest_divisor)\n",
    "else:\n",
    "    print(x, 'is a prime number')\n"
   ]
  },
  {
   "cell_type": "code",
   "execution_count": 7,
   "metadata": {},
   "outputs": [
    {
     "name": "stdout",
     "output_type": "stream",
     "text": [
      "largest divisor of 500 is 250\n"
     ]
    }
   ],
   "source": [
    "# Test if an int > 2, if not largest divisor\n",
    "x = int(input('Enter an integer greater than 2:'))\n",
    "smallest_divisor = None\n",
    "for guess in range(2, x):\n",
    "    if x % guess == 0:\n",
    "        smallest_divisor = guess\n",
    "        break\n",
    "if smallest_divisor != None:\n",
    "    print('largest divisor of', x, 'is', int(x / smallest_divisor))\n",
    "else:\n",
    "    print(x, 'is a prime number')"
   ]
  },
  {
   "cell_type": "markdown",
   "metadata": {},
   "source": [
    "Better primality test"
   ]
  },
  {
   "cell_type": "code",
   "execution_count": 12,
   "metadata": {},
   "outputs": [
    {
     "name": "stdout",
     "output_type": "stream",
     "text": [
      "41 is a prime number\n"
     ]
    }
   ],
   "source": [
    "# Test if an int > 2, if not print smallest divisor\n",
    "x = int(input('Enter an integer greater than 2:'))\n",
    "smallest_divisor = None\n",
    "if x % 2 == 0:\n",
    "    smallest_divisor = 2\n",
    "else:\n",
    "    for guess in range(3, x, 2):\n",
    "        if x % guess == 0:\n",
    "            smallest_divisor = guess\n",
    "            break\n",
    "\n",
    "if smallest_divisor != None:\n",
    "    print('smallest divisor of', x, 'is', smallest_divisor)\n",
    "else:\n",
    "    print(x, 'is a prime number')"
   ]
  }
 ],
 "metadata": {
  "interpreter": {
   "hash": "6608b25267cef1f46aac2faaff423d156672507dfefa8ea293c50ae9bef0afd6"
  },
  "kernelspec": {
   "display_name": "Python 3.9.5 64-bit ('base': conda)",
   "language": "python",
   "name": "python3"
  },
  "language_info": {
   "codemirror_mode": {
    "name": "ipython",
    "version": 3
   },
   "file_extension": ".py",
   "mimetype": "text/x-python",
   "name": "python",
   "nbconvert_exporter": "python",
   "pygments_lexer": "ipython3",
   "version": "3.9.5"
  },
  "orig_nbformat": 4
 },
 "nbformat": 4,
 "nbformat_minor": 2
}
