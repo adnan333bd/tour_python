{
 "cells": [
  {
   "cell_type": "markdown",
   "metadata": {},
   "source": [
    "3.1 Exhaustive Enumeration"
   ]
  },
  {
   "cell_type": "code",
   "execution_count": 8,
   "metadata": {},
   "outputs": [
    {
     "name": "stdout",
     "output_type": "stream",
     "text": [
      "81 is not a perfect cube\n"
     ]
    }
   ],
   "source": [
    "# Find  the cube root of a perfect cube\n",
    "x = int(input('Enter an integer: '))\n",
    "ans = 0\n",
    "while ans**3 < abs(x):\n",
    "    ans += 1\n",
    "if ans**3 != abs(x):\n",
    "    print(x, 'is not a perfect cube')\n",
    "else:\n",
    "    if x < 0:\n",
    "        ans = -ans\n",
    "    print('cube root of', x, 'is', ans)"
   ]
  },
  {
   "cell_type": "markdown",
   "metadata": {},
   "source": [
    "Primality Test"
   ]
  },
  {
   "cell_type": "code",
   "execution_count": 4,
   "metadata": {},
   "outputs": [
    {
     "name": "stdout",
     "output_type": "stream",
     "text": [
      "smallest divisor of 25 is 5\n"
     ]
    }
   ],
   "source": [
    "# Test if an int > 2, if not print smallest divisor\n",
    "x = int(input('Enter an integer greater than 2:'))\n",
    "smallest_divisor = None\n",
    "for guess in range(2, x):\n",
    "    if x % guess == 0:\n",
    "        smallest_divisor = guess\n",
    "        break\n",
    "if smallest_divisor != None:\n",
    "    print('smallest divisor of', x, 'is', smallest_divisor)\n",
    "else:\n",
    "    print(x, 'is a prime number')\n"
   ]
  },
  {
   "cell_type": "code",
   "execution_count": 7,
   "metadata": {},
   "outputs": [
    {
     "name": "stdout",
     "output_type": "stream",
     "text": [
      "largest divisor of 500 is 250\n"
     ]
    }
   ],
   "source": [
    "# Test if an int > 2, if not largest divisor\n",
    "x = int(input('Enter an integer greater than 2:'))\n",
    "smallest_divisor = None\n",
    "for guess in range(2, x):\n",
    "    if x % guess == 0:\n",
    "        smallest_divisor = guess\n",
    "        break\n",
    "if smallest_divisor != None:\n",
    "    print('largest divisor of', x, 'is', int(x / smallest_divisor))\n",
    "else:\n",
    "    print(x, 'is a prime number')"
   ]
  },
  {
   "cell_type": "markdown",
   "metadata": {},
   "source": [
    "Better primality test"
   ]
  },
  {
   "cell_type": "code",
   "execution_count": 12,
   "metadata": {},
   "outputs": [
    {
     "name": "stdout",
     "output_type": "stream",
     "text": [
      "41 is a prime number\n"
     ]
    }
   ],
   "source": [
    "# Test if an int > 2, if not print smallest divisor\n",
    "x = int(input('Enter an integer greater than 2:'))\n",
    "smallest_divisor = None\n",
    "if x % 2 == 0:\n",
    "    smallest_divisor = 2\n",
    "else:\n",
    "    for guess in range(3, x, 2):\n",
    "        if x % guess == 0:\n",
    "            smallest_divisor = guess\n",
    "            break\n",
    "\n",
    "if smallest_divisor != None:\n",
    "    print('smallest divisor of', x, 'is', smallest_divisor)\n",
    "else:\n",
    "    print(x, 'is a prime number')"
   ]
  },
  {
   "cell_type": "code",
   "execution_count": 15,
   "metadata": {},
   "outputs": [
    {
     "name": "stdout",
     "output_type": "stream",
     "text": [
      "root:  10 , pwr: 4\n"
     ]
    }
   ],
   "source": [
    "# Find two ints root and pwr such that , 1 < pwr < 6 and root ^ pwr == x\n",
    "x = int(input('Enter an integer:'))\n",
    "pwrs = [2,3,4,5]\n",
    "guess_root = 0\n",
    "root = None\n",
    "pwr = None\n",
    "while guess_root**2 <= x:\n",
    "    for p in pwrs:\n",
    "        if guess_root**p > x:\n",
    "            break\n",
    "        if guess_root**p == x:\n",
    "            pwr = p\n",
    "            root = guess_root\n",
    "            break\n",
    "    if root != None:\n",
    "        break\n",
    "    guess_root += 1\n",
    "\n",
    "\n",
    "\n",
    "if root == None:\n",
    "    print(\"No such pairs\")\n",
    "else:\n",
    "    print('root: ', root, ', pwr:', pwr)\n",
    "\n"
   ]
  },
  {
   "cell_type": "code",
   "execution_count": 1,
   "metadata": {},
   "outputs": [
    {
     "name": "stdout",
     "output_type": "stream",
     "text": [
      "3\n",
      "5\n",
      "7\n",
      "11\n",
      "13\n",
      "17\n",
      "19\n",
      "23\n",
      "29\n",
      "31\n",
      "37\n",
      "41\n",
      "43\n",
      "47\n",
      "53\n",
      "59\n",
      "61\n",
      "67\n",
      "71\n",
      "73\n",
      "79\n",
      "83\n",
      "89\n",
      "97\n",
      "101\n",
      "103\n",
      "107\n",
      "109\n",
      "113\n",
      "127\n",
      "131\n",
      "137\n",
      "139\n",
      "149\n",
      "151\n",
      "157\n",
      "163\n",
      "167\n",
      "173\n",
      "179\n",
      "181\n",
      "191\n",
      "193\n",
      "197\n",
      "199\n",
      "211\n",
      "223\n",
      "227\n",
      "229\n",
      "233\n",
      "239\n",
      "241\n",
      "251\n",
      "257\n",
      "263\n",
      "269\n",
      "271\n",
      "277\n",
      "281\n",
      "283\n",
      "293\n",
      "307\n",
      "311\n",
      "313\n",
      "317\n",
      "331\n",
      "337\n",
      "347\n",
      "349\n",
      "353\n",
      "359\n",
      "367\n",
      "373\n",
      "379\n",
      "383\n",
      "389\n",
      "397\n",
      "401\n",
      "409\n",
      "419\n",
      "421\n",
      "431\n",
      "433\n",
      "439\n",
      "443\n",
      "449\n",
      "457\n",
      "461\n",
      "463\n",
      "467\n",
      "479\n",
      "487\n",
      "491\n",
      "499\n",
      "503\n",
      "509\n",
      "521\n",
      "523\n",
      "541\n",
      "547\n",
      "557\n",
      "563\n",
      "569\n",
      "571\n",
      "577\n",
      "587\n",
      "593\n",
      "599\n",
      "601\n",
      "607\n",
      "613\n",
      "617\n",
      "619\n",
      "631\n",
      "641\n",
      "643\n",
      "647\n",
      "653\n",
      "659\n",
      "661\n",
      "673\n",
      "677\n",
      "683\n",
      "691\n",
      "701\n",
      "709\n",
      "719\n",
      "727\n",
      "733\n",
      "739\n",
      "743\n",
      "751\n",
      "757\n",
      "761\n",
      "769\n",
      "773\n",
      "787\n",
      "797\n",
      "809\n",
      "811\n",
      "821\n",
      "823\n",
      "827\n",
      "829\n",
      "839\n",
      "853\n",
      "857\n",
      "859\n",
      "863\n",
      "877\n",
      "881\n",
      "883\n",
      "887\n",
      "907\n",
      "911\n",
      "919\n",
      "929\n",
      "937\n",
      "941\n",
      "947\n",
      "953\n",
      "967\n",
      "971\n",
      "977\n",
      "983\n",
      "991\n",
      "997\n",
      "sum of primes from 3 to 999 is 76125\n"
     ]
    }
   ],
   "source": [
    "# sum of pi so that 2 < pi < 1000 and pi is prime\n",
    "s = 0\n",
    "for n in range(3, 1000, 2):\n",
    "    n_is_prime = True\n",
    "    for d in range(3, n, 2):\n",
    "        if n % d == 0:\n",
    "            n_is_prime = False\n",
    "            break\n",
    "    if n_is_prime:\n",
    "        s += n\n",
    "        # print(n)\n",
    "print(\"sum of primes from 3 to 999 is\", s)\n",
    "\n"
   ]
  }
 ],
 "metadata": {
  "interpreter": {
   "hash": "6608b25267cef1f46aac2faaff423d156672507dfefa8ea293c50ae9bef0afd6"
  },
  "kernelspec": {
   "display_name": "Python 3.9.5 64-bit ('base': conda)",
   "language": "python",
   "name": "python3"
  },
  "language_info": {
   "codemirror_mode": {
    "name": "ipython",
    "version": 3
   },
   "file_extension": ".py",
   "mimetype": "text/x-python",
   "name": "python",
   "nbconvert_exporter": "python",
   "pygments_lexer": "ipython3",
   "version": "3.9.5"
  },
  "orig_nbformat": 4
 },
 "nbformat": 4,
 "nbformat_minor": 2
}
