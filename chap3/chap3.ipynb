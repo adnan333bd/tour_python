{
 "cells": [
  {
   "cell_type": "markdown",
   "metadata": {},
   "source": [
    "<h2>3.1 Exhaustive Enumeration</h2>"
   ]
  },
  {
   "cell_type": "code",
   "execution_count": null,
   "metadata": {},
   "outputs": [],
   "source": [
    "# Find  the cube root of a perfect cube\n",
    "x = int(input('Enter an integer: '))\n",
    "ans = 0\n",
    "while ans**3 < abs(x):\n",
    "    ans += 1\n",
    "if ans**3 != abs(x):\n",
    "    print(x, 'is not a perfect cube')\n",
    "else:\n",
    "    if x < 0:\n",
    "        ans = -ans\n",
    "    print('cube root of', x, 'is', ans)"
   ]
  },
  {
   "cell_type": "markdown",
   "metadata": {},
   "source": [
    "Primality Test"
   ]
  },
  {
   "cell_type": "code",
   "execution_count": null,
   "metadata": {},
   "outputs": [],
   "source": [
    "# Test if an int > 2, if not print smallest divisor\n",
    "x = int(input('Enter an integer greater than 2:'))\n",
    "smallest_divisor = None\n",
    "for guess in range(2, x):\n",
    "    if x % guess == 0:\n",
    "        smallest_divisor = guess\n",
    "        break\n",
    "if smallest_divisor != None:\n",
    "    print('smallest divisor of', x, 'is', smallest_divisor)\n",
    "else:\n",
    "    print(x, 'is a prime number')\n"
   ]
  },
  {
   "cell_type": "code",
   "execution_count": null,
   "metadata": {},
   "outputs": [],
   "source": [
    "# Test if an int > 2, if not largest divisor\n",
    "x = int(input('Enter an integer greater than 2:'))\n",
    "smallest_divisor = None\n",
    "for guess in range(2, x):\n",
    "    if x % guess == 0:\n",
    "        smallest_divisor = guess\n",
    "        break\n",
    "if smallest_divisor != None:\n",
    "    print('largest divisor of', x, 'is', int(x / smallest_divisor))\n",
    "else:\n",
    "    print(x, 'is a prime number')"
   ]
  },
  {
   "cell_type": "markdown",
   "metadata": {},
   "source": [
    "Better primality test"
   ]
  },
  {
   "cell_type": "code",
   "execution_count": null,
   "metadata": {},
   "outputs": [],
   "source": [
    "# Test if an int > 2, if not print smallest divisor\n",
    "x = int(input('Enter an integer greater than 2:'))\n",
    "smallest_divisor = None\n",
    "if x % 2 == 0:\n",
    "    smallest_divisor = 2\n",
    "else:\n",
    "    for guess in range(3, x, 2):\n",
    "        if x % guess == 0:\n",
    "            smallest_divisor = guess\n",
    "            break\n",
    "\n",
    "if smallest_divisor != None:\n",
    "    print('smallest divisor of', x, 'is', smallest_divisor)\n",
    "else:\n",
    "    print(x, 'is a prime number')"
   ]
  },
  {
   "cell_type": "code",
   "execution_count": null,
   "metadata": {},
   "outputs": [],
   "source": [
    "# Find two ints root and pwr such that , 1 < pwr < 6 and root ^ pwr == x\n",
    "x = int(input('Enter an integer:'))\n",
    "pwrs = [2,3,4,5]\n",
    "guess_root = 0\n",
    "root = None\n",
    "pwr = None\n",
    "while guess_root**2 <= x:\n",
    "    for p in pwrs:\n",
    "        if guess_root**p > x:\n",
    "            break\n",
    "        if guess_root**p == x:\n",
    "            pwr = p\n",
    "            root = guess_root\n",
    "            break\n",
    "    if root != None:\n",
    "        break\n",
    "    guess_root += 1\n",
    "\n",
    "\n",
    "\n",
    "if root == None:\n",
    "    print(\"No such pairs\")\n",
    "else:\n",
    "    print('root: ', root, ', pwr:', pwr)\n",
    "\n"
   ]
  },
  {
   "cell_type": "code",
   "execution_count": null,
   "metadata": {},
   "outputs": [],
   "source": [
    "# sum of pi so that 2 < pi < 1000 and pi is prime\n",
    "from math import sqrt\n",
    "s = 0\n",
    "primes = [2]\n",
    "for n in range(3, 1000, 2):\n",
    "    n_is_prime = True\n",
    "    for d in primes:\n",
    "        if d > int(sqrt(n)):\n",
    "            break\n",
    "        if n % d == 0:\n",
    "            n_is_prime = False\n",
    "            break\n",
    "    if n_is_prime:\n",
    "        s += n\n",
    "        primes.append(n)\n",
    "        # print(n)\n",
    "print(\"sum of primes from 3 to 999 is\", s)\n",
    "\n"
   ]
  },
  {
   "cell_type": "markdown",
   "metadata": {},
   "source": [
    "<h2>Section 3.2: Approx solutions and bisection search</h2>"
   ]
  },
  {
   "cell_type": "code",
   "execution_count": 3,
   "metadata": {},
   "outputs": [
    {
     "name": "stdout",
     "output_type": "stream",
     "text": [
      "low: 0.0 high: 32.0 ans: 16.0\n",
      "low: 0.0 high: 16.0 ans: 8.0\n",
      "low: 0.0 high: 8.0 ans: 4.0\n",
      "low: 4.0 high: 8.0 ans: 6.0\n",
      "low: 4.0 high: 6.0 ans: 5.0\n",
      "low: 5.0 high: 6.0 ans: 5.5\n",
      "low: 5.5 high: 6.0 ans: 5.75\n",
      "low: 5.5 high: 5.75 ans: 5.625\n",
      "low: 5.625 high: 5.75 ans: 5.6875\n",
      "square root of 32.0 is 5.65625\n"
     ]
    }
   ],
   "source": [
    "# fig 3-5, find square root of x\n",
    "def square_root():\n",
    "    x = float(input('Enter x >= 0'))\n",
    "\n",
    "    epsilon = 0.01\n",
    "    low = 0.0\n",
    "    high = max(1.0, x)\n",
    "    num_guesses = 1\n",
    "    ans = (low + high)/2\n",
    "    while abs(ans**2-x) >= epsilon:\n",
    "        print('low:', low, 'high:', high, 'ans:', ans)\n",
    "        if ans**2 > x:\n",
    "            high = ans\n",
    "        else:\n",
    "            low = ans\n",
    "        ans = (low + high)/2\n",
    "        num_guesses += 1\n",
    "        \n",
    "    print('square root of', x, 'is', ans)\n",
    "\n"
   ]
  },
  {
   "cell_type": "code",
   "execution_count": 1,
   "metadata": {},
   "outputs": [
    {
     "name": "stdout",
     "output_type": "stream",
     "text": [
      "log of 64.0 is 6\n"
     ]
    }
   ],
   "source": [
    "# find the log base 2 of a number, find log(x) given x is the input\n",
    "# we can calculate 2^a and check if that matches to x, once it matches we have found log(x) = a\n",
    "# 2^0, 2^1, 2^2, 2^3, 2^4 .... log 16 = 4; given 16 as input we have found 4 , by the match 2 ^ 4 = 16, lets search from 0 to 4\n",
    "# but x can be 14 as well, we can search 14 in the bin-search in the space 3 and 4, \n",
    "# 1, 2, 4, 8, 16\n",
    "# log(a) < log(x) => a < x, thats why we can do a binary search\n",
    "# step 1: find the search space, means low, high\n",
    "# step 2: check middle, if not the ans, update low and high, in a loop and repeat step 2\n",
    "def find_log():\n",
    "    x = float(input('please enter a number >= 1'))\n",
    "    low = 0\n",
    "    while 2**low < x:\n",
    "        low += 1\n",
    "    if 2**low == x:\n",
    "        print('log of' , x, 'is', low)\n",
    "        return\n",
    "    low -= 1\n",
    "    high = low + 1\n",
    "    ans = (low + high) / 2\n",
    "    epsilon = 0.02\n",
    "    while abs(2**ans - x) >= epsilon:\n",
    "        if 2**ans > x:\n",
    "            high = ans\n",
    "        elif 2**ans < x:\n",
    "            low = ans\n",
    "        ans = (low + high) / 2\n",
    "    print('log of' , x, 'is', ans)\n",
    "\n",
    "find_log()\n",
    "\n",
    "\n",
    "\n",
    "\n"
   ]
  },
  {
   "cell_type": "code",
   "execution_count": 15,
   "metadata": {},
   "outputs": [
    {
     "name": "stdout",
     "output_type": "stream",
     "text": [
      "cube root of 0.5 is 0.793701171875\n"
     ]
    }
   ],
   "source": [
    "# page 77, exercise 2, find cube root of x\n",
    "def cube_root():\n",
    "    x = float(input('Enter x'))\n",
    "    y = abs(x)\n",
    "\n",
    "    epsilon = 0.0001\n",
    "    low = 0.0\n",
    "    high = max(1.0, y)\n",
    "    num_guesses = 1\n",
    "    ans = (low + high)/2\n",
    "    while abs(ans**3-y) >= epsilon:        \n",
    "        if ans**3 > y:\n",
    "            high = ans\n",
    "        else:\n",
    "            low = ans\n",
    "        ans = (low + high)/2\n",
    "        num_guesses += 1\n",
    "        \n",
    "    print('cube root of', x, 'is', -ans if x < 0 else ans)\n",
    "\n",
    "cube_root()"
   ]
  }
 ],
 "metadata": {
  "interpreter": {
   "hash": "6608b25267cef1f46aac2faaff423d156672507dfefa8ea293c50ae9bef0afd6"
  },
  "kernelspec": {
   "display_name": "Python 3.9.5 64-bit ('base': conda)",
   "language": "python",
   "name": "python3"
  },
  "language_info": {
   "codemirror_mode": {
    "name": "ipython",
    "version": 3
   },
   "file_extension": ".py",
   "mimetype": "text/x-python",
   "name": "python",
   "nbconvert_exporter": "python",
   "pygments_lexer": "ipython3",
   "version": "3.9.5"
  },
  "orig_nbformat": 4
 },
 "nbformat": 4,
 "nbformat_minor": 2
}
