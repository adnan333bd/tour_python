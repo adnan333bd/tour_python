{
 "cells": [
  {
   "cell_type": "code",
   "execution_count": 5,
   "metadata": {},
   "outputs": [],
   "source": [
    "# find root of a real number\n",
    "def find_root(x, power, epsilon):\n",
    "    # search space = ?\n",
    "    if x < 0 and power % 2 == 0:\n",
    "        return None # even powered root of negative number does not exist\n",
    "    \n",
    "    low = min(-1, x)\n",
    "    high = max(1, x)\n",
    "\n",
    "    # bisection search on the space\n",
    "    ans = (low + high) / 2\n",
    "    while abs(ans**power - x) >= epsilon:\n",
    "        if ans**power < x:\n",
    "            low = ans\n",
    "        elif ans**power > x:\n",
    "            high = ans\n",
    "        ans = (low + high) / 2\n",
    "    \n",
    "    return ans"
   ]
  },
  {
   "cell_type": "code",
   "execution_count": 6,
   "metadata": {},
   "outputs": [
    {
     "name": "stdout",
     "output_type": "stream",
     "text": [
      "x = 0.25, power = 1, epsilon=0.1: Okay\n",
      "x = 0.25, power = 1, epsilon=0.001: Okay\n",
      "x = 0.25, power = 1, epsilon=1: Okay\n",
      "x = 0.25, power = 2, epsilon=0.1: Okay\n",
      "x = 0.25, power = 2, epsilon=0.001: Okay\n",
      "x = 0.25, power = 2, epsilon=1: Okay\n",
      "x = 0.25, power = 3, epsilon=0.1: Okay\n",
      "x = 0.25, power = 3, epsilon=0.001: Okay\n",
      "x = 0.25, power = 3, epsilon=1: Okay\n",
      "x = 8, power = 1, epsilon=0.1: Okay\n",
      "x = 8, power = 1, epsilon=0.001: Okay\n",
      "x = 8, power = 1, epsilon=1: Okay\n",
      "x = 8, power = 2, epsilon=0.1: Okay\n",
      "x = 8, power = 2, epsilon=0.001: Okay\n",
      "x = 8, power = 2, epsilon=1: Okay\n",
      "x = 8, power = 3, epsilon=0.1: Okay\n",
      "x = 8, power = 3, epsilon=0.001: Okay\n",
      "x = 8, power = 3, epsilon=1: Okay\n",
      "x = -8, power = 1, epsilon=0.1: Okay\n",
      "x = -8, power = 1, epsilon=0.001: Okay\n",
      "x = -8, power = 1, epsilon=1: Okay\n",
      "x = -8, power = 2, epsilon=0.1: No root exists\n",
      "x = -8, power = 2, epsilon=0.001: No root exists\n",
      "x = -8, power = 2, epsilon=1: No root exists\n",
      "x = -8, power = 3, epsilon=0.1: Okay\n",
      "x = -8, power = 3, epsilon=0.001: Okay\n",
      "x = -8, power = 3, epsilon=1: Okay\n"
     ]
    }
   ],
   "source": [
    "def test_find_root(x_vals, powers, epsilons):\n",
    "    for x in x_vals:\n",
    "        for p in powers:\n",
    "            for e in epsilons:\n",
    "                result = find_root(x, p, e)\n",
    "                if result == None:\n",
    "                    val = 'No root exists'\n",
    "                else:\n",
    "                    val = 'Okay'\n",
    "                    if abs(result**p - x) > e:\n",
    "                        val = 'Bad'\n",
    "                print(f'x = {x}, power = {p}, epsilon={e}: {val}')\n",
    "\n",
    "\n",
    "x_vals = (0.25, 8, -8)\n",
    "powers = (1, 2, 3)\n",
    "epsilons = (0.1, 0.001, 1)\n",
    "\n",
    "test_find_root(x_vals=x_vals, powers=powers, epsilons=epsilons)\n"
   ]
  }
 ],
 "metadata": {
  "interpreter": {
   "hash": "916dbcbb3f70747c44a77c7bcd40155683ae19c65e1c03b4aa3499c5328201f1"
  },
  "kernelspec": {
   "display_name": "Python 3.8.10 64-bit",
   "language": "python",
   "name": "python3"
  },
  "language_info": {
   "codemirror_mode": {
    "name": "ipython",
    "version": 3
   },
   "file_extension": ".py",
   "mimetype": "text/x-python",
   "name": "python",
   "nbconvert_exporter": "python",
   "pygments_lexer": "ipython3",
   "version": "3.8.10"
  },
  "orig_nbformat": 4
 },
 "nbformat": 4,
 "nbformat_minor": 2
}
