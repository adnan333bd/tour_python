{
 "cells": [
  {
   "cell_type": "code",
   "execution_count": 5,
   "metadata": {},
   "outputs": [],
   "source": [
    "# find root of a real number\n",
    "# p 101\n",
    "#  .......-1......0.....1.....2.....3.....4.....5......\n",
    "#                  e > 0\n",
    "#                       p >= 1  : 1,2,3,4,....\n",
    "#  <-x->\n",
    "def find_root(x, power, epsilon):\n",
    "    \"\"\"Assumes x and epsilon int or float, power an int, \n",
    "            epsilon > 0 and power >=1\n",
    "       Returns float y such that y**power is withing epsilon of x.\n",
    "            If such a float does not exist, it returns None\"\"\"\n",
    "    # search space = ?\n",
    "    if x < 0 and power % 2 == 0:\n",
    "        return None # even powered root of negative number does not exist\n",
    "    \n",
    "    low = min(-1, x)\n",
    "    high = max(1, x)\n",
    "\n",
    "    # bisection search on the space\n",
    "    ans = (low + high) / 2\n",
    "    while abs(ans**power - x) >= epsilon:\n",
    "        if ans**power < x:\n",
    "            low = ans\n",
    "        elif ans**power > x:\n",
    "            high = ans\n",
    "        ans = (low + high) / 2\n",
    "    \n",
    "    return ans"
   ]
  },
  {
   "cell_type": "code",
   "execution_count": null,
   "metadata": {},
   "outputs": [],
   "source": [
    "# p 103\n",
    "def test_find_root(x_vals, powers, epsilons):\n",
    "    for x in x_vals:\n",
    "        for p in powers:\n",
    "            for e in epsilons:\n",
    "                result = find_root(x, p, e)\n",
    "                if result == None:\n",
    "                    val = 'No root exists'\n",
    "                else:\n",
    "                    val = 'Okay'\n",
    "                    if abs(result**p - x) > e:\n",
    "                        val = 'Bad'\n",
    "                print(f'x = {x}, power = {p}, epsilon={e}: {val}')\n",
    "\n",
    "\n",
    "x_vals = (0.25, 8, -8)\n",
    "powers = (1, 2, 3)\n",
    "epsilons = (0.1, 0.001, 1)\n",
    "\n",
    "test_find_root(x_vals=x_vals, powers=powers, epsilons=epsilons)\n"
   ]
  },
  {
   "cell_type": "code",
   "execution_count": 18,
   "metadata": {},
   "outputs": [],
   "source": [
    "# p 103\n",
    "# (base^ans - x) < epsilon\n",
    "# ex. 1\n",
    "# x = 12, eps = 0.001, base = 2 | 2^0, 2^1, 2^2, 2^3 < x < 2^4 so 3 < ans < 4\n",
    "# we can search ans between 3 and 4, so that (2^ans - x) < epsilon\n",
    "def log(x, base, epsilon):\n",
    "    \"\"\"Assumes x and epsilon int or float, base an int\n",
    "            x > 1, epsilon > 0 and base > 1\"\"\"\n",
    "    high = 0.0\n",
    "    while base**high < x:\n",
    "        high += 1\n",
    "\n",
    "    low = high - 1\n",
    "\n",
    "    ans = (low + high) / 2\n",
    "\n",
    "    while abs(base**ans - x) >= epsilon:\n",
    "        if base**ans > x:\n",
    "            high = ans\n",
    "        else:\n",
    "            low = ans\n",
    "        ans = (low + high) / 2\n",
    "\n",
    "    return ans\n",
    "\n",
    "print(log(4, 1, 0.001))\n"
   ]
  },
  {
   "cell_type": "code",
   "execution_count": 9,
   "metadata": {},
   "outputs": [
    {
     "name": "stdout",
     "output_type": "stream",
     "text": [
      "50 2\n",
      "7.071083068847656\n"
     ]
    }
   ],
   "source": [
    "# p 105\n",
    "# Higher order programming\n",
    "def bisection_solve(x, eval_ans, epsilon, low, high):\n",
    "    \"\"\"x, epsilon, low, high are floats\n",
    "    epsilon > 0\n",
    "    eval_ans a function mapping a float to a float\n",
    "    low <= high and there is an ans between low and high \n",
    "    s.t. eval_ans(ans) is within epsilon of x\"\"\"\n",
    "    ans = (low + high) / 2\n",
    "    while abs(eval_ans(ans) - x) >= epsilon:\n",
    "        if eval_ans(ans) < x:\n",
    "            low = ans\n",
    "        else:\n",
    "            high = ans\n",
    "        ans = (low + high) / 2\n",
    "    return ans\n",
    "\n",
    "def find_root_bounds(x):\n",
    "    low = min(-1, x)\n",
    "    high = max(1, x)\n",
    "    return low, high\n",
    "\n",
    "def create_eval_ans_for_find_root(power):\n",
    "    return lambda ans: ans ** int(power)\n",
    "\n",
    "def find_root():\n",
    "    x, y = list(map(int, input(\"Enter x and y, to find yth root of x\").split()))\n",
    "    eval_ans = create_eval_ans_for_find_root(y)\n",
    "    low, high = find_root_bounds(x)\n",
    "    return bisection_solve(x=x, eval_ans=eval_ans, epsilon=0.001, low=low,  high=high)\n",
    "\n",
    "ans = find_root()\n",
    "print(ans)"
   ]
  },
  {
   "cell_type": "code",
   "execution_count": 2,
   "metadata": {},
   "outputs": [
    {
     "name": "stdout",
     "output_type": "stream",
     "text": [
      "1.301025390625\n"
     ]
    }
   ],
   "source": [
    "# Using bisection solve to approximate logs\n",
    "# page 107, x > 1, base > 1, epsilon > 0\n",
    "def bisection_solve(x, eval_ans, epsilon, low, high):\n",
    "    ans = (low + high) / 2\n",
    "    while abs(eval_ans(ans) - x) >= epsilon:\n",
    "        if eval_ans(ans) < x:\n",
    "            low = ans\n",
    "        else:\n",
    "            high = ans\n",
    "        ans = (low+high) / 2\n",
    "    return ans\n",
    "\n",
    "\n",
    "def find_log_bounds(x, base):  # 2^4 --- 2^5 log(20):x=20, base=2 => low = 4, high = 5\n",
    "    high = 0\n",
    "    while base**high < x:\n",
    "        high += 1\n",
    "    low = high - 1\n",
    "\n",
    "    return low, high\n",
    "\n",
    "def create_eval_ans_for_find_log(base):\n",
    "    return lambda ans: base**ans\n",
    "\n",
    "def log(base, x, epsilion):\n",
    "    low, high = find_log_bounds(x, base)\n",
    "    eval_ans = create_eval_ans_for_find_log(base)\n",
    "    return bisection_solve(x, eval_ans, epsilion, low, high)\n",
    "\n",
    "print(log(10, 20, 0.001))\n"
   ]
  }
 ],
 "metadata": {
  "interpreter": {
   "hash": "916dbcbb3f70747c44a77c7bcd40155683ae19c65e1c03b4aa3499c5328201f1"
  },
  "kernelspec": {
   "display_name": "Python 3.8.10 64-bit",
   "language": "python",
   "name": "python3"
  },
  "language_info": {
   "codemirror_mode": {
    "name": "ipython",
    "version": 3
   },
   "file_extension": ".py",
   "mimetype": "text/x-python",
   "name": "python",
   "nbconvert_exporter": "python",
   "pygments_lexer": "ipython3",
   "version": "3.9.12"
  },
  "orig_nbformat": 4
 },
 "nbformat": 4,
 "nbformat_minor": 2
}
